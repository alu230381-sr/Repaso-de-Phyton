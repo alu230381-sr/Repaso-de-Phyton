{
  "nbformat": 4,
  "nbformat_minor": 0,
  "metadata": {
    "colab": {
      "provenance": [],
      "authorship_tag": "ABX9TyPHWeJ8tUmAG9ab5rf84uQl",
      "include_colab_link": true
    },
    "kernelspec": {
      "name": "python3",
      "display_name": "Python 3"
    },
    "language_info": {
      "name": "python"
    }
  },
  "cells": [
    {
      "cell_type": "markdown",
      "metadata": {
        "id": "view-in-github",
        "colab_type": "text"
      },
      "source": [
        "<a href=\"https://colab.research.google.com/github/alu230381-sr/Repaso-de-Phyton/blob/main/CitlaliAC.ipynb\" target=\"_parent\"><img src=\"https://colab.research.google.com/assets/colab-badge.svg\" alt=\"Open In Colab\"/></a>"
      ]
    },
    {
      "cell_type": "code",
      "execution_count": 2,
      "metadata": {
        "colab": {
          "base_uri": "https://localhost:8080/"
        },
        "id": "VrAQK-EP-85G",
        "outputId": "1723c7ec-ad9c-486b-818f-aa90f3f052fc"
      },
      "outputs": [
        {
          "output_type": "stream",
          "name": "stdout",
          "text": [
            "hola\n",
            "ingresa tu nombrecici\n",
            "tu nombre es:  cici , bienvenido\n"
          ]
        }
      ],
      "source": [
        "\n",
        "print(\"hola\")\n",
        "nombre=input(\"ingresa tu nombre\")\n",
        "print(\"tu nombre es: \",nombre,\", bienvenido\")\n",
        "\n"
      ]
    },
    {
      "cell_type": "markdown",
      "source": [
        "Realizar un programa que  permite capturar tu nombre y lo imprima seguidp de una bienvenida\n"
      ],
      "metadata": {
        "id": "poEiv-cA_nWp"
      }
    },
    {
      "cell_type": "code",
      "source": [
        "n1=int (input( \"Captura un numero\"))\n",
        "n2=int (input( \"Captura un numero\"))\n",
        "s=n1+n2\n",
        "print(\"la suma es:\",s)\n",
        "r=n1-n2\n",
        "print(\"la resta es:\",r)\n",
        "m=n1*n2\n",
        "print(\"la multiplicacion es:\",m)\n"
      ],
      "metadata": {
        "colab": {
          "base_uri": "https://localhost:8080/"
        },
        "id": "Em66BOFtCnat",
        "outputId": "09e09e78-9106-4b45-ca2c-40930a3102a4"
      },
      "execution_count": 3,
      "outputs": [
        {
          "output_type": "stream",
          "name": "stdout",
          "text": [
            "Captura un numero101\n",
            "Captura un numero5\n",
            "la suma es: 106\n",
            "la resta es: 96\n",
            "la multiplicacion es: 505\n"
          ]
        }
      ]
    },
    {
      "cell_type": "markdown",
      "source": [
        "Realiza un programa q te permita capturar dos numeros enteros e imprima la suma,resta,la multiplicacion entre ellos."
      ],
      "metadata": {
        "id": "Wcgrbrr1_tSG"
      }
    }
  ]
}