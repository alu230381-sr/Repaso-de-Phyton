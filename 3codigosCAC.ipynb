{
  "nbformat": 4,
  "nbformat_minor": 0,
  "metadata": {
    "colab": {
      "provenance": [],
      "authorship_tag": "ABX9TyPjJQ2NUHMwNYYsj6hw+vdA",
      "include_colab_link": true
    },
    "kernelspec": {
      "name": "python3",
      "display_name": "Python 3"
    },
    "language_info": {
      "name": "python"
    }
  },
  "cells": [
    {
      "cell_type": "markdown",
      "metadata": {
        "id": "view-in-github",
        "colab_type": "text"
      },
      "source": [
        "<a href=\"https://colab.research.google.com/github/alu230381-sr/Repaso-de-Phyton/blob/main/3codigosCAC.ipynb\" target=\"_parent\"><img src=\"https://colab.research.google.com/assets/colab-badge.svg\" alt=\"Open In Colab\"/></a>"
      ]
    },
    {
      "cell_type": "markdown",
      "source": [
        "Realizar un programa en python que te permita capturar 3 números enteros e imprima cual de los 3 es el mayor"
      ],
      "metadata": {
        "id": "C184ehg4_PnZ"
      }
    },
    {
      "cell_type": "code",
      "source": [
        "n1=int(input(\"Ingrese el primer numero: \"))\n",
        "n2=int(input(\"Ingrese el segundo numero: \"))\n",
        "n3=int(input(\"Ingrese el tercer numero: \"))\n",
        "\n",
        "if n1 > n2 and n1 > n3:\n",
        "  print(\"El primer numero es el mayor\")\n",
        "elif n2 > n1 and n2 > n3:\n",
        "  print(\"El segundo numero es el mayor\")\n",
        "else:\n",
        "  print(\"El tercer numero es el mayor\")"
      ],
      "metadata": {
        "colab": {
          "base_uri": "https://localhost:8080/"
        },
        "id": "l7UWoBgOAiel",
        "outputId": "f0ec398f-da54-442e-9cf7-40a073674e1b"
      },
      "execution_count": 2,
      "outputs": [
        {
          "output_type": "stream",
          "name": "stdout",
          "text": [
            "Ingrese el primer numero: 5\n",
            "Ingrese el segundo numero: 2\n",
            "Ingrese el tercer numero: 1\n",
            "El primer numero es el mayor\n"
          ]
        }
      ]
    },
    {
      "cell_type": "markdown",
      "source": [
        "Realizar un programa en python mediante el cual calcules el total de caracteres que tiene un nombre capturado desde el teclado."
      ],
      "metadata": {
        "id": "V9RWMuEqBeET"
      }
    },
    {
      "cell_type": "code",
      "source": [
        "nombre=input(\"Ingrese su nombre: \")\n",
        "print(\"El nombre tiene\", len(nombre), \"caracteres\")\n",
        "numero_caracteres=len(nombre)\n",
        "print(numero_caracteres)\n"
      ],
      "metadata": {
        "colab": {
          "base_uri": "https://localhost:8080/"
        },
        "id": "9sXdYUDGCeCA",
        "outputId": "8def46b1-1d07-4f8c-b713-36ca40b1217c"
      },
      "execution_count": 3,
      "outputs": [
        {
          "output_type": "stream",
          "name": "stdout",
          "text": [
            "Ingrese su nombre: cici\n",
            "El nombre tiene 4 caracteres\n",
            "4\n"
          ]
        }
      ]
    },
    {
      "cell_type": "markdown",
      "source": [
        " Realizar un programa en python que permita imprimir los 7 días de la semana."
      ],
      "metadata": {
        "id": "WFltXS4RC0o4"
      }
    },
    {
      "cell_type": "code",
      "source": [
        "respuesta=input(\"Desea imprimir los dias de la semana? (s/n): \")\n",
        "if respuesta == \"s\":\n",
        "  print(\"Lunes\")\n",
        "  print(\"Martes\")\n",
        "  print(\"Miercoles\")\n",
        "  print(\"Jueves\")\n",
        "  print(\"Viernes\")\n",
        "  print(\"Sabado\")\n",
        "  print(\"Domingo\")\n",
        "else:\n",
        "  print(\"Hasta luego\")"
      ],
      "metadata": {
        "colab": {
          "base_uri": "https://localhost:8080/"
        },
        "id": "bPzgoTuRC33X",
        "outputId": "84796d9c-5bf4-4cac-c354-6fdadb601cc9"
      },
      "execution_count": 6,
      "outputs": [
        {
          "output_type": "stream",
          "name": "stdout",
          "text": [
            "Desea imprimir los dias de la semana? (s/n): s\n",
            "Lunes\n",
            "Martes\n",
            "Miercoles\n",
            "Jueves\n",
            "Viernes\n",
            "Sabado\n",
            "Domingo\n"
          ]
        }
      ]
    }
  ]
}